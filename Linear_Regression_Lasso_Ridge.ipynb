{
  "cells": [
    {
      "cell_type": "markdown",
      "metadata": {
        "id": "MHXP2uRmDK58"
      },
      "source": [
        "# Introduction\n",
        "\n",
        "We will be using the scikit-learn library (Python) - https://scikit-learn.org/stable/. It is one of the well-used machine learning libraries. In this notebook, the goal is to familiarize with the scikit-learn library as well as numpy (which is a very common library for mathematical tasks in Python - https://numpy.org/) and matplotlib (for creating plots - https://matplotlib.org/)."
      ]
    },
    {
      "cell_type": "markdown",
      "metadata": {
        "id": "xpg2saT9DK6A"
      },
      "source": [
        "### Linear regression\n",
        "\n",
        "Let's start with exploring linear regression modelling."
      ]
    },
    {
      "cell_type": "markdown",
      "metadata": {
        "id": "NdujkafkDK6B"
      },
      "source": [
        "#### Section 1"
      ]
    },
    {
      "cell_type": "code",
      "execution_count": 1,
      "metadata": {
        "colab": {
          "base_uri": "https://localhost:8080/"
        },
        "id": "QCSgoBlKDK6D",
        "outputId": "6521e5ba-5e7c-40f6-d29f-9f79563ed02c"
      },
      "outputs": [
        {
          "output_type": "stream",
          "name": "stdout",
          "text": [
            "A randomly generated n x d input data where n=4 and d=1, i.e. 4 data instances each with 1 feature: \n",
            "\n",
            "[[0.80500292]\n",
            " [0.80794079]\n",
            " [0.51532556]\n",
            " [0.28580138]]\n"
          ]
        }
      ],
      "source": [
        "import numpy\n",
        "\n",
        "random_seed = 5 # we specify a seed so that we have reproducible results\n",
        "\n",
        "\"\"\"\n",
        "default_rng is the recommended constructor for the random number class Generator.\n",
        "Here are several ways we can construct a random number generator using default_rng and the Generator class.\"\"\"\n",
        "rng =  numpy.random.default_rng(random_seed) \n",
        "training_data_x = rng.random((4, 1))\n",
        "training_labels_y = rng.random((4, 1))\n",
        "\n",
        "print('A randomly generated n x d input data where n=4 and d=1, i.e. 4 data instances each with 1 feature: \\n')\n",
        "print(training_data_x)"
      ]
    },
    {
      "cell_type": "markdown",
      "metadata": {
        "id": "jFpC3Vq_DK6E"
      },
      "source": [
        "#### Section 2"
      ]
    },
    {
      "cell_type": "code",
      "execution_count": 2,
      "metadata": {
        "colab": {
          "base_uri": "https://localhost:8080/",
          "height": 400
        },
        "id": "At9sAh0mDK6E",
        "outputId": "be9d82f0-3b4f-42ea-f8c3-58fbbbffbc0d"
      },
      "outputs": [
        {
          "output_type": "stream",
          "name": "stdout",
          "text": [
            "The weights: [[0.20316895]]\n",
            "The bias: [0.10014594]\n",
            "\n",
            " Mean squared error (training error): 0.03 \n"
          ]
        },
        {
          "output_type": "display_data",
          "data": {
            "text/plain": [
              "<Figure size 432x288 with 1 Axes>"
            ],
            "image/png": "[encoded data removed]"
          },
          "metadata": {
            "needs_background": "light"
          }
        }
      ],
      "source": [
        "%matplotlib inline\n",
        "\n",
        "from sklearn import linear_model\n",
        "from sklearn.metrics import mean_squared_error\n",
        "import matplotlib.pyplot as plt\n",
        "\n",
        "# Train a linear regression model\n",
        "lr_model = linear_model.LinearRegression()\n",
        "lr_model.fit(training_data_x, training_labels_y)\n",
        "print(\"The weights:\",  lr_model.coef_)\n",
        "print(\"The bias:\",  lr_model.intercept_)\n",
        "\n",
        "# Check the performance of the model on the data used to train it\n",
        "training_pred_y = lr_model.predict(training_data_x)\n",
        "print(\"\\n Mean squared error (training error): %.2f \" % mean_squared_error(training_labels_y, training_pred_y))\n",
        "\n",
        "\n",
        "# Plot data and model\n",
        "plt.scatter(training_data_x, training_labels_y, color=\"blue\")\n",
        "plt.plot(training_data_x, training_pred_y, color=\"black\", linewidth=3)\n",
        "\n",
        "plt.xlabel('x', size=20)\n",
        "plt.ylabel('y', size=20)\n",
        "plt.title('Linear regression model visualization \\n', size=20)\n",
        "\n",
        "plt.show()"
      ]
    },
    {
      "cell_type": "markdown",
      "metadata": {
        "id": "j7EmZo69DK6F"
      },
      "source": [
        "#### Section 3"
      ]
    },
    {
      "cell_type": "code",
      "execution_count": 3,
      "metadata": {
        "colab": {
          "base_uri": "https://localhost:8080/",
          "height": 366
        },
        "id": "mY-9YAjIDK6F",
        "outputId": "869ef07a-53ac-43bb-f1ee-04d277648157"
      },
      "outputs": [
        {
          "output_type": "stream",
          "name": "stdout",
          "text": [
            "\n",
            " Mean squared error (test error): 0.56 \n"
          ]
        },
        {
          "output_type": "display_data",
          "data": {
            "text/plain": [
              "<Figure size 432x288 with 1 Axes>"
            ],
            "image/png": "[encoded data removed]"
          },
          "metadata": {
            "needs_background": "light"
          }
        }
      ],
      "source": [
        "# Check the performance of the model on test data not seen by the model in training\n",
        "random_seed = 1\n",
        "rng =  numpy.random.default_rng(random_seed)\n",
        "test_data_x = rng.random((1, 1))\n",
        "test_labels_y = rng.random((1, 1))\n",
        "test_pred_y = lr_model.predict(test_data_x)\n",
        "print(\"\\n Mean squared error (test error): %.2f \" % mean_squared_error(test_labels_y, test_pred_y))\n",
        "\n",
        "\n",
        "# Plot data and model\n",
        "plt.scatter(training_data_x, training_labels_y, color=\"blue\")\n",
        "plt.scatter(test_data_x, test_labels_y, color=\"red\")\n",
        "plt.plot(training_data_x, training_pred_y, color=\"black\", linewidth=3)\n",
        "\n",
        "plt.xlabel('x', size=20)\n",
        "plt.ylabel('y', size=20)\n",
        "plt.title('Linear regression model visualization \\n', size=20)\n",
        "\n",
        "plt.show()"
      ]
    },
    {
      "cell_type": "markdown",
      "source": [
        "**B. REGULARIZATION - RIDGE REGRESSION IMPLEMENTATION (L2_Regularization)**"
      ],
      "metadata": {
        "id": "ZJ8qg6vsWRtl"
      }
    },
    {
      "cell_type": "markdown",
      "source": [
        "Ridge Regression_L2_Regularization: The cost function used in Ridge Regression is a modified function of any cost function. ie.MAE,MSE,RMSE,etc. with an added Penalty term that penalizes the ,model for predicting wrong values. Thus reducing overfitting.\n",
        "\n",
        "Taking a cost function:\n",
        "\n",
        "Summation[(y_actual-y_predicted)^2] --> This is the standard cost function.\n",
        "\n",
        "Summation[(y_actual-y_predicted)^2] + Lambda * Summation[ (Slopes of all Features)^2 ] --> (Penalty Term)-->This is the modified cost function for Ridge Regression.\n",
        "\n",
        "Slopes are weight of features.\n",
        "\n",
        "In sklearn the Lambda is renamed as Alpha where Alpha can take any postive value from 0 to Infinity.\n",
        "\n",
        "(Alpha's value is considered only positive as we want the model to find the best fit line with least Loss accuracy. But if we apply Negative Aplha value we are reducing the error from its actual value instead of penalizing it.\n",
        "\n",
        "Alpha is hyperparameter which needs to be tuned which helps us to tune error and reduces model overfitting.\n",
        "\n",
        "Summation[(y_actual-y_predicted)^2] =100 --> 100 is the total residual\n",
        "\n",
        "> y_predicted=B0+B1x1+B2x2 Lambda=0.1 B1=2 B2=4\n",
        "\n",
        "\n",
        "> 100 + 0.1 * Summation[ (2^2) + (4^2)] = 100 +2 =102\n",
        "\n",
        "\n",
        "\n",
        "\n",
        "Total errors are 102.\n",
        "\n",
        "\n",
        "\n",
        "\n"
      ],
      "metadata": {
        "id": "7xk_RhWsYNtP"
      }
    },
    {
      "cell_type": "code",
      "source": [
        "import numpy\n",
        "\n",
        "random_seed = 5 # we specify a seed so that we have reproducible results\n",
        "\n",
        "\"\"\"\n",
        "default_rng is the recommended constructor for the random number class Generator.\n",
        "Here are several ways we can construct a random number generator using default_rng and the Generator class.\"\"\"\n",
        "rng =  numpy.random.default_rng(random_seed) \n",
        "training_data_x = rng.random((4, 1))\n",
        "training_labels_y = rng.random((4, 1))\n",
        "\n",
        "print('A randomly generated n x d input data where n=4 and d=1, i.e. 4 data instances each with 1 feature: \\n')\n",
        "print(training_data_x)"
      ],
      "metadata": {
        "colab": {
          "base_uri": "https://localhost:8080/"
        },
        "id": "NcFVCWEOeSKk",
        "outputId": "89506a73-0b3f-48b3-86ee-1ef7e13f4f06"
      },
      "execution_count": 4,
      "outputs": [
        {
          "output_type": "stream",
          "name": "stdout",
          "text": [
            "A randomly generated n x d input data where n=4 and d=1, i.e. 4 data instances each with 1 feature: \n",
            "\n",
            "[[0.80500292]\n",
            " [0.80794079]\n",
            " [0.51532556]\n",
            " [0.28580138]]\n"
          ]
        }
      ]
    },
    {
      "cell_type": "code",
      "source": [
        "%matplotlib inline\n",
        "\n",
        "from sklearn import linear_model\n",
        "from sklearn.metrics import mean_squared_error\n",
        "import matplotlib.pyplot as plt\n",
        "\n",
        "# Train a linear regression model\n",
        "alpha=1.0\n",
        "lr_model_ridge= linear_model.Ridge(alpha=alpha)\n",
        "lr_model_ridge.fit(training_data_x, training_labels_y)\n",
        "print(\"The weights:\",  lr_model_ridge.coef_)\n",
        "print(\"The bias:\",  lr_model_ridge.intercept_)\n",
        "\n",
        "# Check the performance of the model on the data used to train it\n",
        "training_pred_y = lr_model_ridge.predict(training_data_x)\n",
        "print(\"\\n Mean squared error (training error): %.2f \" % mean_squared_error(training_labels_y, training_pred_y))\n",
        "\n",
        "\n",
        "# Plot data and model\n",
        "plt.scatter(training_data_x, training_labels_y, color=\"blue\")\n",
        "plt.plot(training_data_x, training_pred_y, color=\"black\", linewidth=3)\n",
        "\n",
        "plt.xlabel('x', size=20)\n",
        "plt.ylabel('y', size=20)\n",
        "plt.title('Linear Ridge regression model visualization \\n', size=20)\n",
        "\n",
        "plt.show()"
      ],
      "metadata": {
        "colab": {
          "base_uri": "https://localhost:8080/",
          "height": 400
        },
        "id": "7c1soFCdWVf0",
        "outputId": "a0a2b306-e36d-4cb1-fe8c-edbd8089d763"
      },
      "execution_count": 5,
      "outputs": [
        {
          "output_type": "stream",
          "name": "stdout",
          "text": [
            "The weights: [[0.03259736]]\n",
            "The bias: [0.20308891]\n",
            "\n",
            " Mean squared error (training error): 0.03 \n"
          ]
        },
        {
          "output_type": "display_data",
          "data": {
            "text/plain": [
              "<Figure size 432x288 with 1 Axes>"
            ],
            "image/png": "[encoded data removed]"
          },
          "metadata": {
            "needs_background": "light"
          }
        }
      ]
    },
    {
      "cell_type": "code",
      "source": [
        "%matplotlib inline\n",
        "\n",
        "from sklearn import linear_model\n",
        "from sklearn.metrics import mean_squared_error\n",
        "import matplotlib.pyplot as plt\n",
        "import pandas as pd\n",
        "# Train a linear regression model\n",
        "\n",
        "def fit_lr_model_ridge_different_alpha(alpha):\n",
        "  df_diff_alpha=pd.DataFrame(columns=[\"Alpha\",\"Mean_Squared_Error\"])\n",
        "  for a in alpha:\n",
        "    lr_model_ridge= linear_model.Ridge(alpha=a)\n",
        "    lr_model_ridge.fit(training_data_x, training_labels_y)\n",
        "\n",
        "    #Check the performance of the model on the data used to train it\n",
        "    training_pred_y = lr_model_ridge.predict(training_data_x)\n",
        "    mse=mean_squared_error(training_labels_y, training_pred_y)\n",
        "\n",
        "    #Insert Dict to the dataframe using DataFrame.append()\n",
        "    new_row = {'Alpha':a, 'Mean_Squared_Error':mse}\n",
        "    df_diff_alpha = df_diff_alpha.append(new_row, ignore_index=True)\n",
        "  print(df_diff_alpha)"
      ],
      "metadata": {
        "id": "TM5aIpvOWVcr"
      },
      "execution_count": 6,
      "outputs": []
    },
    {
      "cell_type": "code",
      "source": [
        "alpha=[0.0001, 0.001, 0.01,0.05,0.1,0.2,0.3,0.4,0.5,0.6,0.7,0.8,0.9,1.0,2.0,3.0,4.0,5.0,6.0,7.0,8.0,9.0,10.0,20,50,100,500,1000]\n",
        "fit_lr_model_ridge_different_alpha(alpha)"
      ],
      "metadata": {
        "colab": {
          "base_uri": "https://localhost:8080/"
        },
        "id": "hfYriLpWWVZm",
        "outputId": "7fe5bbba-8eec-4767-f3c0-c6bac0659c72"
      },
      "execution_count": 7,
      "outputs": [
        {
          "output_type": "stream",
          "name": "stdout",
          "text": [
            "        Alpha  Mean_Squared_Error\n",
            "0      0.0001            0.028100\n",
            "1      0.0010            0.028100\n",
            "2      0.0100            0.028105\n",
            "3      0.0500            0.028185\n",
            "4      0.1000            0.028333\n",
            "5      0.2000            0.028616\n",
            "6      0.3000            0.028836\n",
            "7      0.4000            0.029003\n",
            "8      0.5000            0.029132\n",
            "9      0.6000            0.029234\n",
            "10     0.7000            0.029317\n",
            "11     0.8000            0.029385\n",
            "12     0.9000            0.029442\n",
            "13     1.0000            0.029490\n",
            "14     2.0000            0.029743\n",
            "15     3.0000            0.029843\n",
            "16     4.0000            0.029896\n",
            "17     5.0000            0.029930\n",
            "18     6.0000            0.029952\n",
            "19     7.0000            0.029969\n",
            "20     8.0000            0.029981\n",
            "21     9.0000            0.029991\n",
            "22    10.0000            0.029999\n",
            "23    20.0000            0.030035\n",
            "24    50.0000            0.030057\n",
            "25   100.0000            0.030065\n",
            "26   500.0000            0.030071\n",
            "27  1000.0000            0.030071\n"
          ]
        }
      ]
    },
    {
      "cell_type": "markdown",
      "source": [
        "**C. REGULARIZATION - LASSO REGRESSION IMPLEMENTATION (L1_Regularization)**"
      ],
      "metadata": {
        "id": "onsKNw_OWWMm"
      }
    },
    {
      "cell_type": "markdown",
      "source": [
        "Lasso Regression_L1_Regularization : The cost function used in Lasso Regression is a modified function of any cost function. ie.MAE,MSE,RMSE,etc. with an added Penalty term that penalizes the ,model for predicting wrong values. Thus reducing overfitting.\n",
        "\n",
        "Taking a cost function:\n",
        "\n",
        "Summation[(y_actual-y_predicted)^2] --> This is the standard cost function.\n",
        "\n",
        "Summation[(y_actual-y_predicted)^2] + Lambda * Summation[ | (Slopes of all Features)| ] --> (Penalty Term) This is the modified cost function for Lasso Regression.\n",
        "\n",
        "Note--> || is a modulo function\n",
        "\n",
        "Slopes are weight of features.\n",
        "\n",
        "In sklearn the Lambda is renamed as Alpha where Alpha can take any postive value from 0 to Infinity.\n",
        "\n",
        "(Alpha's value is considered only positive as we want the model to find the best fit line with least Loss accuracy. But if we apply Negative Aplha value we are reducing the error from its actual value instead of penalizing it.\n",
        "\n",
        "Alpha is hyperparameter which needs to be tuned which helps us to tune error and reduces model overfitting.\n",
        "\n",
        "Summation[(y_actual-y_predicted)^2] =100 --> 100 is the total residual\n",
        "\n",
        "\n",
        "\n",
        "> y_predicted=B0+B1x1+B2x2 Lambda=0.1 B1=2 B2=4\n",
        "\n",
        "> 100 + 0.1 * Summation[ |2| + | 4|] = 100 +0.6 =100.6\n",
        "\n",
        "Total errors are 100.6."
      ],
      "metadata": {
        "id": "I3XLRE7BYkDd"
      }
    },
    {
      "cell_type": "code",
      "source": [
        "import numpy\n",
        "\n",
        "random_seed = 5 # we specify a seed so that we have reproducible results\n",
        "\n",
        "\"\"\"\n",
        "default_rng is the recommended constructor for the random number class Generator.\n",
        "Here are several ways we can construct a random number generator using default_rng and the Generator class.\"\"\"\n",
        "rng =  numpy.random.default_rng(random_seed) \n",
        "training_data_x = rng.random((4, 1))\n",
        "training_labels_y = rng.random((4, 1))\n",
        "\n",
        "print('A randomly generated n x d input data where n=4 and d=1, i.e. 4 data instances each with 1 feature: \\n')\n",
        "print(training_data_x)"
      ],
      "metadata": {
        "colab": {
          "base_uri": "https://localhost:8080/"
        },
        "id": "7-I4MLdxWYm3",
        "outputId": "e4e96f5b-d1a3-4796-ac52-292c3ee4c859"
      },
      "execution_count": 8,
      "outputs": [
        {
          "output_type": "stream",
          "name": "stdout",
          "text": [
            "A randomly generated n x d input data where n=4 and d=1, i.e. 4 data instances each with 1 feature: \n",
            "\n",
            "[[0.80500292]\n",
            " [0.80794079]\n",
            " [0.51532556]\n",
            " [0.28580138]]\n"
          ]
        }
      ]
    },
    {
      "cell_type": "code",
      "source": [
        "%matplotlib inline\n",
        "\n",
        "from sklearn import linear_model\n",
        "from sklearn.metrics import mean_squared_error\n",
        "import matplotlib.pyplot as plt\n",
        "\n",
        "# Train a linear regression model\n",
        "alpha=1.0\n",
        "lr_model_lasso= linear_model.Lasso(alpha=alpha)\n",
        "lr_model_lasso.fit(training_data_x, training_labels_y)\n",
        "print(\"The weights:\",  lr_model_lasso.coef_)\n",
        "print(\"The bias:\",  lr_model_lasso.intercept_)\n",
        "\n",
        "# Check the performance of the model on the data used to train it\n",
        "training_pred_y = lr_model_lasso.predict(training_data_x)\n",
        "print(\"\\n Mean squared error (training error): %.2f \" % mean_squared_error(training_labels_y, training_pred_y))\n",
        "\n",
        "\n",
        "# Plot data and model\n",
        "plt.scatter(training_data_x, training_labels_y, color=\"blue\")\n",
        "plt.plot(training_data_x, training_pred_y, color=\"black\", linewidth=3)\n",
        "\n",
        "plt.xlabel('x', size=20)\n",
        "plt.ylabel('y', size=20)\n",
        "plt.title('Linear Ridge regression model visualization \\n', size=20)\n",
        "\n",
        "plt.show()"
      ],
      "metadata": {
        "colab": {
          "base_uri": "https://localhost:8080/",
          "height": 400
        },
        "id": "rOtG-VuMWYf9",
        "outputId": "173762d3-bd2f-4aae-b0c7-a1babb0eea76"
      },
      "execution_count": 9,
      "outputs": [
        {
          "output_type": "stream",
          "name": "stdout",
          "text": [
            "The weights: [0.]\n",
            "The bias: [0.222762]\n",
            "\n",
            " Mean squared error (training error): 0.03 \n"
          ]
        },
        {
          "output_type": "display_data",
          "data": {
            "text/plain": [
              "<Figure size 432x288 with 1 Axes>"
            ],
            "image/png": "[encoded data removed]"
          },
          "metadata": {
            "needs_background": "light"
          }
        }
      ]
    },
    {
      "cell_type": "code",
      "source": [
        "%matplotlib inline\n",
        "\n",
        "from sklearn import linear_model\n",
        "from sklearn.metrics import mean_squared_error\n",
        "import matplotlib.pyplot as plt\n",
        "import pandas as pd\n",
        "# Train a linear regression model\n",
        "\n",
        "def fit_lr_model_lasso_different_alpha(alpha):\n",
        "  df_diff_alpha=pd.DataFrame(columns=[\"Alpha\",\"Mean_Squared_Error\"])\n",
        "  for a in alpha:\n",
        "    lr_model_lasso= linear_model.Lasso(alpha=a)\n",
        "    lr_model_lasso.fit(training_data_x, training_labels_y)\n",
        "\n",
        "    #Check the performance of the model on the data used to train it\n",
        "    training_pred_y = lr_model_lasso.predict(training_data_x)\n",
        "    mse=mean_squared_error(training_labels_y, training_pred_y)\n",
        "\n",
        "    #Insert Dict to the dataframe using DataFrame.append()\n",
        "    new_row = {'Alpha':a, 'Mean_Squared_Error':mse}\n",
        "    df_diff_alpha = df_diff_alpha.append(new_row, ignore_index=True)\n",
        "  print(df_diff_alpha)"
      ],
      "metadata": {
        "id": "6ZXZurp0WYcE"
      },
      "execution_count": 10,
      "outputs": []
    },
    {
      "cell_type": "code",
      "source": [
        "alpha=[0.0001, 0.001, 0.01,0.05,0.1,0.2,0.3,0.4,0.5,0.6,0.7,0.8,0.9,1.0,2.0,3.0,4.0,5.0,6.0,7.0,8.0,9.0,10.0,20,50,100,500,1000]\n",
        "fit_lr_model_lasso_different_alpha(alpha)"
      ],
      "metadata": {
        "colab": {
          "base_uri": "https://localhost:8080/"
        },
        "id": "0hfjGCadWYY9",
        "outputId": "6dd21390-6ae2-4486-dcb3-7b31f01a6fb1"
      },
      "execution_count": 11,
      "outputs": [
        {
          "output_type": "stream",
          "name": "stdout",
          "text": [
            "        Alpha  Mean_Squared_Error\n",
            "0      0.0001            0.028100\n",
            "1      0.0010            0.028121\n",
            "2      0.0100            0.030072\n",
            "3      0.0500            0.030072\n",
            "4      0.1000            0.030072\n",
            "5      0.2000            0.030072\n",
            "6      0.3000            0.030072\n",
            "7      0.4000            0.030072\n",
            "8      0.5000            0.030072\n",
            "9      0.6000            0.030072\n",
            "10     0.7000            0.030072\n",
            "11     0.8000            0.030072\n",
            "12     0.9000            0.030072\n",
            "13     1.0000            0.030072\n",
            "14     2.0000            0.030072\n",
            "15     3.0000            0.030072\n",
            "16     4.0000            0.030072\n",
            "17     5.0000            0.030072\n",
            "18     6.0000            0.030072\n",
            "19     7.0000            0.030072\n",
            "20     8.0000            0.030072\n",
            "21     9.0000            0.030072\n",
            "22    10.0000            0.030072\n",
            "23    20.0000            0.030072\n",
            "24    50.0000            0.030072\n",
            "25   100.0000            0.030072\n",
            "26   500.0000            0.030072\n",
            "27  1000.0000            0.030072\n"
          ]
        }
      ]
    },
    {
      "cell_type": "code",
      "source": [],
      "metadata": {
        "id": "MD9GTk4TfXZ0"
      },
      "execution_count": null,
      "outputs": []
    }
  ],
  "metadata": {
    "kernelspec": {
      "display_name": "Python 3",
      "language": "python",
      "name": "python3"
    },
    "language_info": {
      "codemirror_mode": {
        "name": "ipython",
        "version": 3
      },
      "file_extension": ".py",
      "mimetype": "text/x-python",
      "name": "python",
      "nbconvert_exporter": "python",
      "pygments_lexer": "ipython3",
      "version": "3.6.2"
    },
    "colab": {
      "provenance": []
    }
  },
  "nbformat": 4,
  "nbformat_minor": 0
}